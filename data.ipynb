{
 "cells": [
  {
   "cell_type": "markdown",
   "id": "95ad5606",
   "metadata": {},
   "source": [
    "# Map references to specific pages"
   ]
  },
  {
   "cell_type": "code",
   "execution_count": null,
   "id": "6497650b",
   "metadata": {},
   "outputs": [],
   "source": [
    "from collections import defaultdict\n",
    "from typing import List, Set, Dict\n",
    "from llamore.reference import Reference\n",
    "import pymupdf\n",
    "\n",
    "\n",
    "def search_for(term: str, doc: \"pymupdf.Document\") -> Set[int]:\n",
    "    \"\"\"\n",
    "    Search for a term in the document and return a list of page numbers where it is found.\n",
    "    \"\"\"\n",
    "    resulting_pages = []\n",
    "    for i, page in enumerate(doc):\n",
    "        if page.search_for(term):\n",
    "            resulting_pages.append(i + 1)\n",
    "\n",
    "    return set(resulting_pages)\n",
    "\n",
    "\n",
    "def search_for_title(title: str, doc: \"pymupdf.Document\") -> Set[int]:\n",
    "    \"\"\"\n",
    "    Search for a title in the document and return a list of page numbers where it is found.\n",
    "    \"\"\"\n",
    "    if pages := search_for(title, doc):\n",
    "        return pages\n",
    "\n",
    "    idx_half = len(title) // 2\n",
    "    if pages := search_for(title[:idx_half], doc).union(\n",
    "        search_for(title[idx_half:], doc)\n",
    "    ):\n",
    "        return pages\n",
    "\n",
    "    idx_quarter = len(title) // 4\n",
    "    if (\n",
    "        pages := search_for(title[:idx_quarter], doc)\n",
    "        .union(search_for(title[idx_quarter:idx_half], doc))\n",
    "        .union(search_for(title[idx_half : idx_half + idx_quarter], doc))\n",
    "        .union(search_for(title[idx_half + idx_quarter :], doc))\n",
    "    ):\n",
    "        return pages\n",
    "    \n",
    "    raise ValueError(f\"Title not found in the document: {title}\")\n",
    "\n",
    "\n",
    "def map_refs_to_pages(\n",
    "    refs: List[Reference], doc: \"pymupdf.Document\"\n",
    ") -> Dict[int, List[Reference]]:\n",
    "    mapping = defaultdict(list)\n",
    "    for ref in refs:\n",
    "        pages = set(range(1, len(doc) + 1))\n",
    "        if ref.analytic_title:\n",
    "            title_pages = search_for_title(ref.analytic_title, doc)\n",
    "            pages &= title_pages\n",
    "\n",
    "        if len(pages) > 1 and ref.journal_title:\n",
    "            title_pages = search_for(ref.journal_title, doc).union(\n",
    "                search_for(ref.journal_title, doc)\n",
    "            )\n",
    "            pages &= title_pages\n",
    "\n",
    "        if len(pages) > 1 and ref.authors:\n",
    "            for person in ref.authors:\n",
    "                if person.surname:\n",
    "                    pages &= search_for(person.surname, doc)\n",
    "                elif person.first_name:\n",
    "                    pages &= search_for(person.first_name, doc)\n",
    "\n",
    "        if len(pages) == 0:\n",
    "            raise ValueError(f\"Reference not found in the document: {ref}\")\n",
    "        if len(pages) > 1:\n",
    "            raise ValueError(f\"Reference found on multiple pages: {pages}\")\n",
    "\n",
    "        mapping[list(pages)[0]].append(ref)\n",
    "\n",
    "    pages_wo_refs = set(range(1, len(doc) + 1)) - set(mapping.keys())\n",
    "    for page in pages_wo_refs:\n",
    "        mapping[page] = []\n",
    "\n",
    "    return mapping"
   ]
  },
  {
   "cell_type": "code",
   "execution_count": 30,
   "id": "2b2cdfa8",
   "metadata": {},
   "outputs": [
    {
     "data": {
      "application/vnd.jupyter.widget-view+json": {
       "model_id": "af336e62e2f64e7d91a25fbb755407c3",
       "version_major": 2,
       "version_minor": 0
      },
      "text/plain": [
       "Output()"
      ]
     },
     "metadata": {},
     "output_type": "display_data"
    },
    {
     "data": {
      "text/html": [
       "<pre style=\"white-space:pre;overflow-x:auto;line-height:normal;font-family:Menlo,'DejaVu Sans Mono',consolas,'Courier New',monospace\"></pre>\n"
      ],
      "text/plain": []
     },
     "metadata": {},
     "output_type": "display_data"
    }
   ],
   "source": [
    "from pathlib import Path\n",
    "from rich.progress import track\n",
    "from lxml import etree\n",
    "from llamore import TeiBiblStruct\n",
    "from multiprocessing import Pool\n",
    "\n",
    "\n",
    "def folder_to_mapping(folder: Path) -> Dict[Path, Dict[int, List[Reference]]]:\n",
    "    parser = TeiBiblStruct()\n",
    "    pub2tei_path = list(folder.glob(\"*pub2tei.tei.xml\"))\n",
    "    pdf_path = list(folder.glob(\"*pdf\"))\n",
    "    if len(pub2tei_path) != 1 or len(pdf_path) != 1:\n",
    "        # print(\n",
    "        #     f\"Skipping {folder} as it does not contain the required files or has too many of it: {pub2tei_path} and {pdf_path}\"\n",
    "        # )\n",
    "        return {}\n",
    "\n",
    "    tree = etree.parse(pub2tei_path[0])\n",
    "    elements = tree.findall(\n",
    "        \".//biblStruct\", namespaces={None: \"http://www.tei-c.org/ns/1.0\"}\n",
    "    )\n",
    "    if len(elements) == 0:\n",
    "        # print(f\"No biblStruct or too many found in {pub2tei_path[0]}: {len(elements)}\")\n",
    "        return {}\n",
    "\n",
    "    refs = []\n",
    "    for el in elements:\n",
    "        ref = parser.to_references(el, raise_empty_error=False)\n",
    "        if ref:\n",
    "            refs.append(ref[0])\n",
    "\n",
    "    if len(refs) == 0:\n",
    "        # print(f\"No references found in {pub2tei_path[0]}\")\n",
    "        return {}\n",
    "\n",
    "    doc = pymupdf.open(pdf_path[0])\n",
    "\n",
    "    try:\n",
    "        folder_mapping = map_refs_to_pages(refs, doc)\n",
    "    except ValueError as e:\n",
    "        # print(f\"Error processing {folder}\")\n",
    "        return {}\n",
    "    else:\n",
    "        return {folder: folder_mapping}\n",
    "\n",
    "\n",
    "data_path = Path(\"/home/david/mpcdf/mplhlt/cupido/data/PLOS_1000/\")\n",
    "folders = [path for path in data_path.glob(\"*\") if path.is_dir()]\n",
    "\n",
    "with Pool(12) as p:\n",
    "    results = []\n",
    "    for result in track(p.imap_unordered(folder_to_mapping, folders), total=len(folders)):\n",
    "        results.append(result)\n",
    "\n"
   ]
  },
  {
   "cell_type": "code",
   "execution_count": 31,
   "id": "db177189",
   "metadata": {},
   "outputs": [],
   "source": [
    "results;"
   ]
  },
  {
   "cell_type": "code",
   "execution_count": 34,
   "id": "67767404",
   "metadata": {},
   "outputs": [],
   "source": [
    "mapping = {}\n",
    "for d in results:\n",
    "    mapping = {**mapping, **d}"
   ]
  },
  {
   "cell_type": "code",
   "execution_count": 35,
   "id": "e4b44eb5",
   "metadata": {},
   "outputs": [],
   "source": [
    "mapping_name = {}\n",
    "for k, v in mapping.items():\n",
    "    mapping_name[k.name] = v"
   ]
  },
  {
   "cell_type": "code",
   "execution_count": 36,
   "id": "b91c682b",
   "metadata": {},
   "outputs": [],
   "source": [
    "mapping_name;"
   ]
  },
  {
   "cell_type": "code",
   "execution_count": null,
   "id": "8e2f1007",
   "metadata": {},
   "outputs": [],
   "source": [
    "from data import Data, Example\n",
    "\n",
    "examples = []\n",
    "for name, pages in mapping_name.items():\n",
    "    for page, refs in pages.items():\n",
    "        example = Example(file=name, page=page, refs=refs or None)\n",
    "        examples.append(example)\n",
    "\n",
    "data = Data(examples=examples)"
   ]
  },
  {
   "cell_type": "markdown",
   "id": "1bda7e28",
   "metadata": {},
   "source": [
    "## Save/Load json data"
   ]
  },
  {
   "cell_type": "code",
   "execution_count": null,
   "id": "7ec65db8",
   "metadata": {},
   "outputs": [],
   "source": [
    "from pathlib import Path\n",
    "from data import Data\n",
    "\n",
    "output = Path(\"./data/data.json\")\n",
    "#output.write_text(data.model_dump_json(exclude_defaults=True, indent=2))"
   ]
  },
  {
   "cell_type": "code",
   "execution_count": 10,
   "id": "e9838a82",
   "metadata": {},
   "outputs": [],
   "source": [
    "data = Data.model_validate_json(output.read_text())"
   ]
  },
  {
   "cell_type": "code",
   "execution_count": 11,
   "id": "9c2b4c85",
   "metadata": {},
   "outputs": [
    {
     "data": {
      "text/plain": [
       "8391"
      ]
     },
     "execution_count": 11,
     "metadata": {},
     "output_type": "execute_result"
    }
   ],
   "source": [
    "len(data.examples)"
   ]
  },
  {
   "cell_type": "code",
   "execution_count": null,
   "id": "bf4d861f",
   "metadata": {},
   "outputs": [],
   "source": []
  }
 ],
 "metadata": {
  "kernelspec": {
   "display_name": "cupido",
   "language": "python",
   "name": "python3"
  },
  "language_info": {
   "codemirror_mode": {
    "name": "ipython",
    "version": 3
   },
   "file_extension": ".py",
   "mimetype": "text/x-python",
   "name": "python",
   "nbconvert_exporter": "python",
   "pygments_lexer": "ipython3",
   "version": "3.10.16"
  }
 },
 "nbformat": 4,
 "nbformat_minor": 5
}

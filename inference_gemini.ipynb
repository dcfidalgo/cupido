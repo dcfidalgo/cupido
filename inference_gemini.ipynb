{
 "cells": [
  {
   "cell_type": "markdown",
   "id": "1806ef89",
   "metadata": {},
   "source": [
    "# Prepare data"
   ]
  },
  {
   "cell_type": "code",
   "execution_count": 4,
   "id": "d00aad8f",
   "metadata": {},
   "outputs": [],
   "source": [
    "from data import Data, split, export_page_as_pdf\n",
    "from pathlib import Path\n",
    "\n",
    "\n",
    "data_path = Path(\"./data\")\n",
    "\n",
    "data_path.mkdir(exist_ok=True)\n",
    "\n",
    "data = Data.model_validate_json((data_path / \"data.json\").read_text())\n",
    "_, valid_data = split(data.examples, only_with_refs=True)"
   ]
  },
  {
   "cell_type": "code",
   "execution_count": 5,
   "id": "e6fd673e",
   "metadata": {},
   "outputs": [],
   "source": [
    "# Export pages of the validation dataset as PDFs\n",
    "pdfs_path = data_path / \"PLOS_1000\"\n",
    "valid_path = data_path / \"pdfs_valid\"\n",
    "\n",
    "pdfs_path.mkdir(exist_ok=True)\n",
    "valid_path.mkdir(exist_ok=True)"
   ]
  },
  {
   "cell_type": "code",
   "execution_count": null,
   "id": "b5e14a40",
   "metadata": {},
   "outputs": [],
   "source": [
    "for i, example in enumerate(valid_data):\n",
    "    pdf_file = pdfs_path / example.file / f\"{example.file}.pdf\"\n",
    "    output = valid_path / f\"{i:03d}.pdf\"\n",
    "    export_page_as_pdf(pdf_file, example.page, output)"
   ]
  },
  {
   "cell_type": "code",
   "execution_count": 6,
   "id": "1baf595d",
   "metadata": {},
   "outputs": [],
   "source": [
    "output_path = data_path / \"gemini_valid\"\n",
    "output_path.mkdir(exist_ok=True)"
   ]
  },
  {
   "cell_type": "markdown",
   "id": "afb6c048",
   "metadata": {},
   "source": [
    "# Inference"
   ]
  },
  {
   "cell_type": "code",
   "execution_count": null,
   "id": "3d7b0de8",
   "metadata": {},
   "outputs": [],
   "source": [
    "import pymupdf\n",
    "from llamore import GeminiExtractor, References\n",
    "import tempfile\n",
    "from pathlib import Path\n",
    "from rich.progress import track\n",
    "\n",
    "with open(\".env\", \"r\") as f:\n",
    "    GEMINI_API_KEY = f.readline().split(\"=\")[1].strip()[1:-1]\n",
    "\n",
    "extractor = GeminiExtractor(api_key=GEMINI_API_KEY, model=\"gemini-2.5-flash\")"
   ]
  },
  {
   "cell_type": "code",
   "execution_count": 8,
   "id": "f21445a3",
   "metadata": {},
   "outputs": [],
   "source": [
    "input_files = sorted(list(valid_path.glob(\"*.pdf\")))\n",
    "input_files;"
   ]
  },
  {
   "cell_type": "code",
   "execution_count": null,
   "id": "c92fdeba",
   "metadata": {},
   "outputs": [],
   "source": [
    "for i, file in track(enumerate(input_files), total=len(valid_data)):\n",
    "    refs = extractor(pdf=file.absolute())\n",
    "    refs.to_xml(output_path / f\"{i}.xml\")"
   ]
  },
  {
   "cell_type": "markdown",
   "id": "b75d951f",
   "metadata": {},
   "source": [
    "# Results"
   ]
  },
  {
   "cell_type": "code",
   "execution_count": 9,
   "id": "ab3b7eee",
   "metadata": {},
   "outputs": [],
   "source": [
    "inputs = sorted(list(output_path.glob(\"*.xml\")), key=lambda x: int(x.stem))\n",
    "gemini_references = []\n",
    "for input_file in inputs:\n",
    "    refs = References.from_xml(input_file)\n",
    "    gemini_references.append(refs)"
   ]
  },
  {
   "cell_type": "code",
   "execution_count": 10,
   "id": "2c57c82d",
   "metadata": {},
   "outputs": [],
   "source": [
    "gold_references = [References(example.refs) for example in valid_data]"
   ]
  },
  {
   "cell_type": "code",
   "execution_count": 15,
   "id": "202433c7",
   "metadata": {},
   "outputs": [
    {
     "data": {
      "application/vnd.jupyter.widget-view+json": {
       "model_id": "6577e761c1214161b981830501423ed8",
       "version_major": 2,
       "version_minor": 0
      },
      "text/plain": [
       "Output()"
      ]
     },
     "metadata": {},
     "output_type": "display_data"
    },
    {
     "data": {
      "text/html": [
       "<pre style=\"white-space:pre;overflow-x:auto;line-height:normal;font-family:Menlo,'DejaVu Sans Mono',consolas,'Courier New',monospace\"></pre>\n"
      ],
      "text/plain": []
     },
     "metadata": {},
     "output_type": "display_data"
    },
    {
     "data": {
      "text/plain": [
       "{'Reference.analytic_title': {'precision': 0.3280865715691097,\n",
       "  'recall': 0.3280865715691097,\n",
       "  'f1': 0.3280865715691097},\n",
       " 'Reference.journal_title': {'precision': 0.6438356164383562,\n",
       "  'recall': 0.5985849056603774,\n",
       "  'f1': 0.6203862136396968},\n",
       " 'Reference.authors.Person.first_name': {'precision': 0.8390296367112811,\n",
       "  'recall': 0.8264861683343143,\n",
       "  'f1': 0.8327106683271066},\n",
       " 'Reference.authors.Person.surname': {'precision': 0.9619138300404666,\n",
       "  'recall': 0.9231296402055968,\n",
       "  'f1': 0.942122748732296},\n",
       " 'Reference.editors.Person.first_name': {'precision': 0.125,\n",
       "  'recall': 0.14545454545454545,\n",
       "  'f1': 0.13445378151260504},\n",
       " 'Reference.editors.Person.surname': {'precision': 0.140625,\n",
       "  'recall': 0.16363636363636364,\n",
       "  'f1': 0.15126050420168066},\n",
       " 'Reference.publisher': {'precision': 0.38333333333333336,\n",
       "  'recall': 0.4,\n",
       "  'f1': 0.39148936170212767},\n",
       " 'Reference.publication_date': {'precision': 0.849169741697417,\n",
       "  'recall': 0.8663529411764705,\n",
       "  'f1': 0.8576752853482413},\n",
       " 'Reference.publication_place': {'precision': 0.4492753623188406,\n",
       "  'recall': 0.3263157894736842,\n",
       "  'f1': 0.37804878048780494},\n",
       " 'Reference.volume': {'precision': 0.0, 'recall': 0.0, 'f1': 0.0},\n",
       " 'Reference.issue': {'precision': 0.0640096618357488,\n",
       "  'recall': 0.8983050847457628,\n",
       "  'f1': 0.11950394588500564},\n",
       " 'Reference.pages': {'precision': 0.13446676970633695,\n",
       "  'recall': 0.1365062761506276,\n",
       "  'f1': 0.13547884765118087},\n",
       " 'Reference.footnote_number': {'precision': 0.0, 'recall': 0.0, 'f1': 0.0},\n",
       " 'Reference.monographic_title': {'precision': 0.0, 'recall': 0.0, 'f1': 0.0},\n",
       " 'Reference.cited_range': {'precision': 0.0, 'recall': 0.0, 'f1': 0.0},\n",
       " 'Reference.authors.Organization.name': {'precision': 0.0,\n",
       "  'recall': 0.0,\n",
       "  'f1': 0.0},\n",
       " 'Reference.authors.Person.middle_name': {'precision': 0.0,\n",
       "  'recall': 0.0,\n",
       "  'f1': 0.0},\n",
       " 'Reference.authors.Person.name_link': {'precision': 0.0,\n",
       "  'recall': 0.0,\n",
       "  'f1': 0.0},\n",
       " 'Reference.editors.Person.middle_name': {'precision': 0.0,\n",
       "  'recall': 0.0,\n",
       "  'f1': 0.0},\n",
       " 'Reference.authors.Person.role_name': {'precision': 0.0,\n",
       "  'recall': 0.0,\n",
       "  'f1': 0.0},\n",
       " 'Reference.editors.Person.name_link': {'precision': 0.0,\n",
       "  'recall': 0.0,\n",
       "  'f1': 0.0},\n",
       " 'Reference.editors.Organization.name': {'precision': 0.0,\n",
       "  'recall': 0.0,\n",
       "  'f1': 0.0},\n",
       " 'micro_average': {'precision': 0.6416073448207039,\n",
       "  'recall': 0.7467286101432443,\n",
       "  'f1': 0.6901882201388393}}"
      ]
     },
     "execution_count": 15,
     "metadata": {},
     "output_type": "execute_result"
    }
   ],
   "source": [
    "from llamore import F1\n",
    "\n",
    "F1().compute_micro_average(gemini_references, gold_references)"
   ]
  },
  {
   "cell_type": "code",
   "execution_count": 16,
   "id": "70aff179",
   "metadata": {},
   "outputs": [
    {
     "data": {
      "application/vnd.jupyter.widget-view+json": {
       "model_id": "f06e7369e3af454e97507714469b9bc2",
       "version_major": 2,
       "version_minor": 0
      },
      "text/plain": [
       "Output()"
      ]
     },
     "metadata": {},
     "output_type": "display_data"
    },
    {
     "data": {
      "text/html": [
       "<pre style=\"white-space:pre;overflow-x:auto;line-height:normal;font-family:Menlo,'DejaVu Sans Mono',consolas,'Courier New',monospace\"></pre>\n"
      ],
      "text/plain": []
     },
     "metadata": {},
     "output_type": "display_data"
    },
    {
     "data": {
      "text/plain": [
       "0.6381822900623727"
      ]
     },
     "execution_count": 16,
     "metadata": {},
     "output_type": "execute_result"
    }
   ],
   "source": [
    "F1().compute_macro_average(gemini_references, gold_references)"
   ]
  },
  {
   "cell_type": "code",
   "execution_count": null,
   "id": "7b799949",
   "metadata": {},
   "outputs": [],
   "source": []
  }
 ],
 "metadata": {
  "kernelspec": {
   "display_name": "cupido",
   "language": "python",
   "name": "python3"
  },
  "language_info": {
   "codemirror_mode": {
    "name": "ipython",
    "version": 3
   },
   "file_extension": ".py",
   "mimetype": "text/x-python",
   "name": "python",
   "nbconvert_exporter": "python",
   "pygments_lexer": "ipython3",
   "version": "3.10.16"
  }
 },
 "nbformat": 4,
 "nbformat_minor": 5
}

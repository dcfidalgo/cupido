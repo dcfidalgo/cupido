{
 "cells": [
  {
   "cell_type": "markdown",
   "id": "ecdb5425",
   "metadata": {},
   "source": [
    "# Prepare data"
   ]
  },
  {
   "cell_type": "code",
   "execution_count": null,
   "id": "301c603b",
   "metadata": {},
   "outputs": [],
   "source": [
    "from data import Data, split, export_page_as_pdf\n",
    "from pathlib import Path\n",
    "from grobid_client.grobid_client import GrobidClient\n",
    "\n",
    "\n",
    "data_path = Path(\"./data\")\n",
    "\n",
    "data_path.mkdir(exist_ok=True)\n",
    "\n",
    "data = Data.model_validate_json((data_path / \"data.json\").read_text())\n",
    "_, valid_data = split(data.examples, only_with_refs=True)"
   ]
  },
  {
   "cell_type": "code",
   "execution_count": null,
   "id": "2d18b1e2",
   "metadata": {},
   "outputs": [],
   "source": [
    "# Export pages of the validation dataset as PDFs\n",
    "pdfs_path = data_path / \"PLOS_1000\"\n",
    "valid_path = data_path / \"pdfs_valid\"\n",
    "\n",
    "pdfs_path.mkdir(exist_ok=True)\n",
    "valid_path.mkdir(exist_ok=True)\n",
    "\n",
    "for i, example in enumerate(valid_data):\n",
    "    pdf_file = pdfs_path / example.file / f\"{example.file}.pdf\"\n",
    "    output = valid_path / f\"{i:03d}.pdf\"\n",
    "    export_page_as_pdf(pdf_file, example.page, output)"
   ]
  },
  {
   "cell_type": "code",
   "execution_count": null,
   "id": "4b091cff",
   "metadata": {},
   "outputs": [],
   "source": [
    "output_path = data_path / \"grobid_valid\"\n",
    "output_path.mkdir(exist_ok=True)"
   ]
  },
  {
   "cell_type": "markdown",
   "id": "c4b65450",
   "metadata": {},
   "source": [
    "# Inference"
   ]
  },
  {
   "cell_type": "code",
   "execution_count": 7,
   "id": "40b0047d",
   "metadata": {},
   "outputs": [
    {
     "name": "stdout",
     "output_type": "stream",
     "text": [
      "GROBID server is up and running\n"
     ]
    }
   ],
   "source": [
    "# sudo docker run --rm --gpus all --init --ulimit core=0 -p 8070:8070 grobid/grobid:0.8.1\n",
    "client = GrobidClient(grobid_server=\"http://localhost:8070\")"
   ]
  },
  {
   "cell_type": "code",
   "execution_count": null,
   "id": "3d6f5e96",
   "metadata": {},
   "outputs": [
    {
     "name": "stdout",
     "output_type": "stream",
     "text": [
      "Processing of /home/david/mpcdf/mplhlt/cupido/data/pdfs_valid/082.pdf failed with error 204 , \n",
      "Processing of /home/david/mpcdf/mplhlt/cupido/data/pdfs_valid/065.pdf failed with error 204 , \n",
      "Processing of /home/david/mpcdf/mplhlt/cupido/data/pdfs_valid/113.pdf failed with error 204 , \n",
      "Processing of /home/david/mpcdf/mplhlt/cupido/data/pdfs_valid/074.pdf failed with error 204 , \n",
      "Processing of /home/david/mpcdf/mplhlt/cupido/data/pdfs_valid/141.pdf failed with error 204 , \n",
      "Processing of /home/david/mpcdf/mplhlt/cupido/data/pdfs_valid/066.pdf failed with error 204 , \n",
      "Processing of /home/david/mpcdf/mplhlt/cupido/data/pdfs_valid/032.pdf failed with error 204 , \n",
      "Processing of /home/david/mpcdf/mplhlt/cupido/data/pdfs_valid/024.pdf failed with error 204 , \n",
      "Processing of /home/david/mpcdf/mplhlt/cupido/data/pdfs_valid/192.pdf failed with error 204 , \n",
      "Processing of /home/david/mpcdf/mplhlt/cupido/data/pdfs_valid/030.pdf failed with error 204 , \n",
      "Processing of /home/david/mpcdf/mplhlt/cupido/data/pdfs_valid/170.pdf failed with error 204 , \n",
      "Processing of /home/david/mpcdf/mplhlt/cupido/data/pdfs_valid/146.pdf failed with error 204 , \n",
      "Processing of /home/david/mpcdf/mplhlt/cupido/data/pdfs_valid/168.pdf failed with error 204 , \n",
      "Processing of /home/david/mpcdf/mplhlt/cupido/data/pdfs_valid/149.pdf failed with error 204 , \n",
      "Processing of /home/david/mpcdf/mplhlt/cupido/data/pdfs_valid/151.pdf failed with error 204 , \n",
      "Processing of /home/david/mpcdf/mplhlt/cupido/data/pdfs_valid/055.pdf failed with error 204 , \n",
      "Processing of /home/david/mpcdf/mplhlt/cupido/data/pdfs_valid/129.pdf failed with error 204 , \n",
      "Processing of /home/david/mpcdf/mplhlt/cupido/data/pdfs_valid/181.pdf failed with error 204 , \n",
      "Processing of /home/david/mpcdf/mplhlt/cupido/data/pdfs_valid/180.pdf failed with error 204 , \n",
      "Processing of /home/david/mpcdf/mplhlt/cupido/data/pdfs_valid/175.pdf failed with error 204 , \n",
      "Processing of /home/david/mpcdf/mplhlt/cupido/data/pdfs_valid/053.pdf failed with error 204 , \n",
      "Processing of /home/david/mpcdf/mplhlt/cupido/data/pdfs_valid/119.pdf failed with error 204 , \n",
      "Processing of /home/david/mpcdf/mplhlt/cupido/data/pdfs_valid/182.pdf failed with error 204 , \n",
      "Processing of /home/david/mpcdf/mplhlt/cupido/data/pdfs_valid/042.pdf failed with error 204 , \n",
      "Processing of /home/david/mpcdf/mplhlt/cupido/data/pdfs_valid/073.pdf failed with error 204 , \n",
      "Processing of /home/david/mpcdf/mplhlt/cupido/data/pdfs_valid/018.pdf failed with error 204 , \n",
      "Processing of /home/david/mpcdf/mplhlt/cupido/data/pdfs_valid/000.pdf failed with error 204 , \n",
      "Processing of /home/david/mpcdf/mplhlt/cupido/data/pdfs_valid/085.pdf failed with error 204 , \n",
      "Processing of /home/david/mpcdf/mplhlt/cupido/data/pdfs_valid/131.pdf failed with error 204 , \n",
      "Processing of /home/david/mpcdf/mplhlt/cupido/data/pdfs_valid/047.pdf failed with error 204 , \n",
      "Processing of /home/david/mpcdf/mplhlt/cupido/data/pdfs_valid/133.pdf failed with error 204 , \n",
      "Processing of /home/david/mpcdf/mplhlt/cupido/data/pdfs_valid/058.pdf failed with error 204 , \n",
      "Processing of /home/david/mpcdf/mplhlt/cupido/data/pdfs_valid/135.pdf failed with error 204 , \n",
      "Processing of /home/david/mpcdf/mplhlt/cupido/data/pdfs_valid/003.pdf failed with error 204 , \n",
      "Processing of /home/david/mpcdf/mplhlt/cupido/data/pdfs_valid/004.pdf failed with error 204 , \n",
      "Processing of /home/david/mpcdf/mplhlt/cupido/data/pdfs_valid/087.pdf failed with error 204 , \n",
      "Processing of /home/david/mpcdf/mplhlt/cupido/data/pdfs_valid/152.pdf failed with error 204 , \n",
      "Processing of /home/david/mpcdf/mplhlt/cupido/data/pdfs_valid/108.pdf failed with error 204 , \n",
      "Processing of /home/david/mpcdf/mplhlt/cupido/data/pdfs_valid/095.pdf failed with error 204 , \n",
      "Processing of /home/david/mpcdf/mplhlt/cupido/data/pdfs_valid/122.pdf failed with error 204 , \n",
      "Processing of /home/david/mpcdf/mplhlt/cupido/data/pdfs_valid/154.pdf failed with error 204 , \n",
      "Processing of /home/david/mpcdf/mplhlt/cupido/data/pdfs_valid/010.pdf failed with error 204 , \n",
      "Processing of /home/david/mpcdf/mplhlt/cupido/data/pdfs_valid/062.pdf failed with error 204 , \n",
      "Processing of /home/david/mpcdf/mplhlt/cupido/data/pdfs_valid/183.pdf failed with error 204 , \n",
      "Processing of /home/david/mpcdf/mplhlt/cupido/data/pdfs_valid/128.pdf failed with error 204 , \n",
      "Processing of /home/david/mpcdf/mplhlt/cupido/data/pdfs_valid/023.pdf failed with error 204 , \n",
      "Processing of /home/david/mpcdf/mplhlt/cupido/data/pdfs_valid/027.pdf failed with error 204 , \n",
      "Processing of /home/david/mpcdf/mplhlt/cupido/data/pdfs_valid/091.pdf failed with error 204 , \n",
      "Processing of /home/david/mpcdf/mplhlt/cupido/data/pdfs_valid/196.pdf failed with error 204 , \n",
      "Processing of /home/david/mpcdf/mplhlt/cupido/data/pdfs_valid/081.pdf failed with error 204 , \n",
      "Processing of /home/david/mpcdf/mplhlt/cupido/data/pdfs_valid/048.pdf failed with error 204 , \n",
      "Processing of /home/david/mpcdf/mplhlt/cupido/data/pdfs_valid/034.pdf failed with error 204 , \n",
      "Processing of /home/david/mpcdf/mplhlt/cupido/data/pdfs_valid/103.pdf failed with error 204 , \n",
      "Processing of /home/david/mpcdf/mplhlt/cupido/data/pdfs_valid/025.pdf failed with error 204 , \n",
      "Processing of /home/david/mpcdf/mplhlt/cupido/data/pdfs_valid/150.pdf failed with error 204 , \n",
      "Processing of /home/david/mpcdf/mplhlt/cupido/data/pdfs_valid/173.pdf failed with error 204 , \n",
      "Processing of /home/david/mpcdf/mplhlt/cupido/data/pdfs_valid/191.pdf failed with error 204 , \n",
      "Processing of /home/david/mpcdf/mplhlt/cupido/data/pdfs_valid/007.pdf failed with error 204 , \n",
      "Processing of /home/david/mpcdf/mplhlt/cupido/data/pdfs_valid/111.pdf failed with error 204 , \n",
      "Processing of /home/david/mpcdf/mplhlt/cupido/data/pdfs_valid/116.pdf failed with error 204 , \n",
      "Processing of /home/david/mpcdf/mplhlt/cupido/data/pdfs_valid/051.pdf failed with error 204 , \n",
      "Processing of /home/david/mpcdf/mplhlt/cupido/data/pdfs_valid/021.pdf failed with error 204 , \n",
      "Processing of /home/david/mpcdf/mplhlt/cupido/data/pdfs_valid/118.pdf failed with error 204 , \n",
      "Processing of /home/david/mpcdf/mplhlt/cupido/data/pdfs_valid/161.pdf failed with error 204 , \n",
      "Processing of /home/david/mpcdf/mplhlt/cupido/data/pdfs_valid/026.pdf failed with error 204 , \n",
      "Processing of /home/david/mpcdf/mplhlt/cupido/data/pdfs_valid/067.pdf failed with error 204 , \n",
      "Processing of /home/david/mpcdf/mplhlt/cupido/data/pdfs_valid/069.pdf failed with error 204 , \n",
      "Processing of /home/david/mpcdf/mplhlt/cupido/data/pdfs_valid/083.pdf failed with error 204 , \n",
      "Processing of /home/david/mpcdf/mplhlt/cupido/data/pdfs_valid/099.pdf failed with error 204 , \n",
      "Processing of /home/david/mpcdf/mplhlt/cupido/data/pdfs_valid/159.pdf failed with error 204 , \n"
     ]
    }
   ],
   "source": [
    "client.process(\"processReferences\", input_path=valid_path.absolute(), output=output_path.absolute())"
   ]
  },
  {
   "cell_type": "markdown",
   "id": "d4e38f60",
   "metadata": {},
   "source": [
    "# Results"
   ]
  },
  {
   "cell_type": "code",
   "execution_count": 20,
   "id": "1ed8d5aa",
   "metadata": {},
   "outputs": [],
   "source": [
    "from llamore import References\n",
    "\n",
    "\n",
    "references_gold = [References(ex.refs) for ex in valid_data]\n",
    "\n",
    "references_grobid = []\n",
    "files_sorted = sorted(output_path.iterdir())\n",
    "for file in files_sorted:\n",
    "    if file.suffix != \".xml\":\n",
    "        references_grobid.append(References([]))\n",
    "    else:\n",
    "        refs = References.from_xml(file)\n",
    "        references_grobid.append(refs)"
   ]
  },
  {
   "cell_type": "code",
   "execution_count": 21,
   "id": "7a839231",
   "metadata": {},
   "outputs": [
    {
     "data": {
      "application/vnd.jupyter.widget-view+json": {
       "model_id": "57032abf480942f3a16053cf508c8fad",
       "version_major": 2,
       "version_minor": 0
      },
      "text/plain": [
       "Output()"
      ]
     },
     "metadata": {},
     "output_type": "display_data"
    },
    {
     "data": {
      "text/html": [
       "<pre style=\"white-space:pre;overflow-x:auto;line-height:normal;font-family:Menlo,'DejaVu Sans Mono',consolas,'Courier New',monospace\"></pre>\n"
      ],
      "text/plain": []
     },
     "metadata": {},
     "output_type": "display_data"
    },
    {
     "data": {
      "text/plain": [
       "0.5090445861402239"
      ]
     },
     "execution_count": 21,
     "metadata": {},
     "output_type": "execute_result"
    }
   ],
   "source": [
    "from llamore import F1\n",
    "\n",
    "\n",
    "F1().compute_macro_average(references_grobid, references_gold, num_processes=0)"
   ]
  },
  {
   "cell_type": "code",
   "execution_count": 22,
   "id": "ae65bcdd",
   "metadata": {},
   "outputs": [
    {
     "data": {
      "application/vnd.jupyter.widget-view+json": {
       "model_id": "6b09d16f3a1d48d499e839cf87e65a1c",
       "version_major": 2,
       "version_minor": 0
      },
      "text/plain": [
       "Output()"
      ]
     },
     "metadata": {},
     "output_type": "display_data"
    },
    {
     "data": {
      "text/html": [
       "<pre style=\"white-space:pre;overflow-x:auto;line-height:normal;font-family:Menlo,'DejaVu Sans Mono',consolas,'Courier New',monospace\"></pre>\n"
      ],
      "text/plain": []
     },
     "metadata": {},
     "output_type": "display_data"
    },
    {
     "data": {
      "text/plain": [
       "0.5235358974896732"
      ]
     },
     "execution_count": 22,
     "metadata": {},
     "output_type": "execute_result"
    }
   ],
   "source": [
    "non_single_grobid, non_single_gold = [], []\n",
    "for ref_grobid, ref_gold in zip(references_grobid, references_gold):\n",
    "    if len(ref_gold) > 1:\n",
    "        non_single_grobid.append(ref_grobid)\n",
    "        non_single_gold.append(ref_gold)\n",
    "\n",
    "F1().compute_macro_average(non_single_grobid, non_single_gold, num_processes=0)"
   ]
  },
  {
   "cell_type": "code",
   "execution_count": 23,
   "id": "58a68dd7",
   "metadata": {},
   "outputs": [
    {
     "data": {
      "application/vnd.jupyter.widget-view+json": {
       "model_id": "88228504ddf741aa99e803adeec4e1df",
       "version_major": 2,
       "version_minor": 0
      },
      "text/plain": [
       "Output()"
      ]
     },
     "metadata": {},
     "output_type": "display_data"
    },
    {
     "data": {
      "text/html": [
       "<pre style=\"white-space:pre;overflow-x:auto;line-height:normal;font-family:Menlo,'DejaVu Sans Mono',consolas,'Courier New',monospace\"></pre>\n"
      ],
      "text/plain": []
     },
     "metadata": {},
     "output_type": "display_data"
    },
    {
     "data": {
      "text/plain": [
       "{'Reference.analytic_title': {'precision': 0.5020219526285384,\n",
       "  'recall': 0.42744712247909494,\n",
       "  'f1': 0.4617428267800213},\n",
       " 'Reference.journal_title': {'precision': 0.9037780401416765,\n",
       "  'recall': 0.7221698113207548,\n",
       "  'f1': 0.8028316727844783},\n",
       " 'Reference.authors.Person.first_name': {'precision': 0.5614358683314415,\n",
       "  'recall': 0.46580341377280754,\n",
       "  'f1': 0.5091681142636557},\n",
       " 'Reference.authors.Person.surname': {'precision': 0.9033830275229358,\n",
       "  'recall': 0.7198172472872644,\n",
       "  'f1': 0.8012205199923716},\n",
       " 'Reference.editors.Person.first_name': {'precision': 0.0,\n",
       "  'recall': 0.0,\n",
       "  'f1': 0.0},\n",
       " 'Reference.editors.Person.surname': {'precision': 0.0,\n",
       "  'recall': 0.0,\n",
       "  'f1': 0.0},\n",
       " 'Reference.publisher': {'precision': 0.41,\n",
       "  'recall': 0.3565217391304348,\n",
       "  'f1': 0.38139534883720927},\n",
       " 'Reference.publication_date': {'precision': 0.8406113537117904,\n",
       "  'recall': 0.7247058823529412,\n",
       "  'f1': 0.7783674500884509},\n",
       " 'Reference.publication_place': {'precision': 0.16216216216216217,\n",
       "  'recall': 0.06315789473684211,\n",
       "  'f1': 0.09090909090909091},\n",
       " 'Reference.issue': {'precision': 0.0, 'recall': 0.0, 'f1': 0.0},\n",
       " 'Reference.volume': {'precision': 0.0, 'recall': 0.0, 'f1': 0.0},\n",
       " 'Reference.pages': {'precision': 0.5409836065573771,\n",
       "  'recall': 0.06903765690376569,\n",
       "  'f1': 0.12244897959183672},\n",
       " 'Reference.monographic_title': {'precision': 0.0, 'recall': 0.0, 'f1': 0.0},\n",
       " 'Reference.authors.Person.middle_name': {'precision': 0.0,\n",
       "  'recall': 0.0,\n",
       "  'f1': 0.0},\n",
       " 'Reference.editors.Person.middle_name': {'precision': 0.0,\n",
       "  'recall': 0.0,\n",
       "  'f1': 0.0},\n",
       " 'Reference.authors.Organization.name': {'precision': 0.0,\n",
       "  'recall': 0.0,\n",
       "  'f1': 0.0},\n",
       " 'Reference.authors.Person.role_name': {'precision': 0.0,\n",
       "  'recall': 0.0,\n",
       "  'f1': 0.0},\n",
       " 'micro_average': {'precision': 0.5800387284169759,\n",
       "  'recall': 0.5566395663956639,\n",
       "  'f1': 0.5680983049508079}}"
      ]
     },
     "execution_count": 23,
     "metadata": {},
     "output_type": "execute_result"
    }
   ],
   "source": [
    "F1().compute_micro_average(references_grobid, references_gold)"
   ]
  },
  {
   "cell_type": "code",
   "execution_count": null,
   "id": "087b8dab",
   "metadata": {},
   "outputs": [],
   "source": []
  }
 ],
 "metadata": {
  "kernelspec": {
   "display_name": "cupido",
   "language": "python",
   "name": "python3"
  },
  "language_info": {
   "codemirror_mode": {
    "name": "ipython",
    "version": 3
   },
   "file_extension": ".py",
   "mimetype": "text/x-python",
   "name": "python",
   "nbconvert_exporter": "python",
   "pygments_lexer": "ipython3",
   "version": "3.10.16"
  }
 },
 "nbformat": 4,
 "nbformat_minor": 5
}

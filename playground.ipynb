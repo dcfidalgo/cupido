{
 "cells": [
  {
   "cell_type": "code",
   "execution_count": 7,
   "id": "adfd3a8e-7c67-4324-aa4b-d1c7884f5f92",
   "metadata": {},
   "outputs": [],
   "source": [
    "from datasets import load_dataset\n",
    "\n",
    "dataset_id = \"HuggingFaceM4/ChartQA\"\n",
    "train_dataset, eval_dataset, test_dataset = load_dataset(dataset_id, split=[\"train[:2]\", \"val[:2]\", \"test[:2]\"])"
   ]
  },
  {
   "cell_type": "code",
   "execution_count": 1,
   "id": "7b094828-ea41-4806-b147-5a301ec00f45",
   "metadata": {},
   "outputs": [],
   "source": [
    "import torch\n",
    "from transformers import Idefics3ForConditionalGeneration, AutoProcessor\n",
    "\n",
    "model_id = \"HuggingFaceTB/SmolVLM-Instruct\""
   ]
  },
  {
   "cell_type": "code",
   "execution_count": 27,
   "id": "c003abb9-e799-455b-8387-5a1bd20a0d56",
   "metadata": {},
   "outputs": [],
   "source": [
    "model = Idefics3ForConditionalGeneration.from_pretrained(\n",
    "    model_id,\n",
    "    device_map=\"cpu\",\n",
    "    torch_dtype=torch.bfloat16,\n",
    "    #_attn_implementation=\"flash_attention_2\",\n",
    ")\n",
    "\n",
    "processor = AutoProcessor.from_pretrained(model_id)"
   ]
  },
  {
   "cell_type": "code",
   "execution_count": 28,
   "id": "46ff6421-63b6-4f53-9c3d-343d3466d974",
   "metadata": {},
   "outputs": [],
   "source": [
    "from pathlib import Path\n",
    "import pymupdf\n",
    "from typing import List, Optional\n",
    "\n",
    "import PIL.PngImagePlugin\n",
    "from PIL import Image\n",
    "\n",
    "\n",
    "def convert_pdf_to_images(pdf: Path, dpi: int = 150) -> List[PIL.PngImagePlugin.PngImageFile]:\n",
    "    \"\"\"Save PDF as pngs and encode them as base64.\"\"\"\n",
    "    doc, images = pymupdf.open(pdf), []\n",
    "    for i, page in enumerate(doc):\n",
    "        png_path = pdf.parent / f\"{pdf.stem}_{i}.png\"\n",
    "        page.get_pixmap(dpi=dpi).save(png_path)\n",
    "        image = Image.open(png_path)\n",
    "        images.append(image)\n",
    "\n",
    "    return images\n",
    "\n",
    "\n",
    "def construct_messages(query: str, images: List[PIL.PngImagePlugin.PngImageFile], system: Optional[str] = None) -> List[dict]:\n",
    "    \"\"\"Construct messages for the model.\"\"\"\n",
    "    query_content = [{\"type\": \"image\", \"image\": img} for img in images]\n",
    "    query_content.append({\"type\": \"text\", \"text\": query})\n",
    "    messages = [{\"role\": \"user\", \"content\": query_content}]\n",
    "\n",
    "    if system is not None:\n",
    "        messages.insert(0, {\"role\": \"system\", \"content\": system})\n",
    "\n",
    "    return messages"
   ]
  },
  {
   "cell_type": "code",
   "execution_count": 29,
   "id": "a1044bbe",
   "metadata": {},
   "outputs": [],
   "source": [
    "pdf_path = Path(\"data/PLOS_1000/pbio.2002780/pbio.2002780.pdf\")\n",
    "\n",
    "images = convert_pdf_to_images(pdf_path)\n",
    "messages = construct_messages(\n",
    "    query=\"Extract all references from the images and return them in the following JSON format: {'references': [{'title': '...', 'authors': '...', 'year': '...'}]}\",\n",
    "    images=images,\n",
    ")\n",
    "text_input = processor.apply_chat_template(messages)"
   ]
  },
  {
   "cell_type": "code",
   "execution_count": 30,
   "id": "30e499d3",
   "metadata": {},
   "outputs": [],
   "source": [
    "model_inputs = processor(text=[text_input], images=[images], return_tensors=\"pt\")"
   ]
  },
  {
   "cell_type": "code",
   "execution_count": null,
   "id": "2ab7a5a4",
   "metadata": {},
   "outputs": [],
   "source": [
    "generated_ids = model.generate(**model_inputs)"
   ]
  },
  {
   "cell_type": "code",
   "execution_count": 15,
   "id": "1a3d07a9-da67-477e-bf24-6ea3cb2580fa",
   "metadata": {},
   "outputs": [
    {
     "name": "stdout",
     "output_type": "stream",
     "text": [
      "<PIL.PngImagePlugin.PngImageFile image mode=RGB size=422x359 at 0x7C69A07625F0>\n",
      "<PIL.PngImagePlugin.PngImageFile image mode=RGB size=1275x1650 at 0x7C69A05562C0>\n"
     ]
    },
    {
     "data": {
      "text/plain": [
       "(None, None)"
      ]
     },
     "execution_count": 15,
     "metadata": {},
     "output_type": "execute_result"
    }
   ],
   "source": [
    "sample = train_dataset[0]\n",
    "img = sample[\"image\"]\n",
    "print(img), print(Image.open(\"data/PLOS_1000/pbio.2002780/pbio.2002780_0.png\"))"
   ]
  },
  {
   "cell_type": "code",
   "execution_count": 16,
   "id": "a1174102-12a9-48ff-a26b-41e36dce4541",
   "metadata": {},
   "outputs": [
    {
     "data": {
      "text/plain": [
       "PosixPath('data/PLOS_1000/pbio.2002780')"
      ]
     },
     "execution_count": 16,
     "metadata": {},
     "output_type": "execute_result"
    }
   ],
   "source": [
    "pdf = Path(\"data/PLOS_1000/pbio.2002780/pbio.2002780.pdf\")\n",
    "pdf.parent"
   ]
  },
  {
   "cell_type": "code",
   "execution_count": 25,
   "id": "d25d03ad-f870-4082-ac32-0125878a2aeb",
   "metadata": {},
   "outputs": [],
   "source": [
    "import pymupdf\n",
    "\n",
    "doc = pymupdf.open(pdf)\n",
    "for i, page in enumerate(doc):\n",
    "    png_path = pdf.parent / f\"{pdf.stem}_{i}.png\"\n",
    "    page.get_pixmap(dpi=150).save(png_path)"
   ]
  },
  {
   "cell_type": "code",
   "execution_count": 6,
   "id": "b873b79e",
   "metadata": {},
   "outputs": [
    {
     "data": {
      "text/plain": [
       "PIL.PngImagePlugin.PngImageFile"
      ]
     },
     "execution_count": 6,
     "metadata": {},
     "output_type": "execute_result"
    }
   ],
   "source": [
    "from PIL import Image\n",
    "\n",
    "type(Image.open(\"data/PLOS_1000/pbio.2002780/pbio.2002780_0.png\"))"
   ]
  },
  {
   "cell_type": "code",
   "execution_count": null,
   "id": "79e7d044-75ed-4a4e-b7f3-73764f760ea2",
   "metadata": {},
   "outputs": [],
   "source": [
    "def format_data(sample):\n",
    "    return [\n",
    "        {\n",
    "            \"role\": \"system\",\n",
    "            \"content\": [{\"type\": \"text\", \"text\": system_message}],\n",
    "        },\n",
    "        {\n",
    "            \"role\": \"user\",\n",
    "            \"content\": [\n",
    "                {\n",
    "                    \"type\": \"image\",\n",
    "                    \"image\": sample[\"image\"],\n",
    "                },\n",
    "                {\n",
    "                    \"type\": \"text\",\n",
    "                    \"text\": sample[\"query\"],\n",
    "                },\n",
    "            ],\n",
    "        },\n",
    "        {\n",
    "            \"role\": \"assistant\",\n",
    "            \"content\": [{\"type\": \"text\", \"text\": sample[\"label\"][0]}],\n",
    "        },\n",
    "    ]"
   ]
  }
 ],
 "metadata": {
  "kernelspec": {
   "display_name": "cupido",
   "language": "python",
   "name": "python3"
  },
  "language_info": {
   "codemirror_mode": {
    "name": "ipython",
    "version": 3
   },
   "file_extension": ".py",
   "mimetype": "text/x-python",
   "name": "python",
   "nbconvert_exporter": "python",
   "pygments_lexer": "ipython3",
   "version": "3.10.16"
  }
 },
 "nbformat": 4,
 "nbformat_minor": 5
}
